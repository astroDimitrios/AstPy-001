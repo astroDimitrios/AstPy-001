{
 "cells": [
  {
   "cell_type": "markdown",
   "source": [
    "<center>\r\n",
    "    <img width=\"100%\" src=\"https://raw.githubusercontent.com/astroDimitrios/AstronomyClass/master/DesignAssets/Ai/Banner3plainCut.png\" alt='AP Logo'>\r\n",
    "</center>\r\n",
    "\r\n",
    "# Introductory Notebooks\r\n",
    "\r\n",
    "These notebooks are meant to serve as an introduction to Python and build up the skills necessary to work on the main AstPy activities.\r\n",
    "\r\n",
    "There are currently 4 activities for you to work your way through:\r\n",
    "\r\n",
    "| Number | Description |\r\n",
    "|------|------|\r\n",
    "|   1  | Introduction to Python and Numpy. | \r\n",
    "|   2  | Functions, IF staements, dictionaries, and list comprehension. | \r\n",
    "|   3  | Introduction to Pandas and Numpy. | \r\n",
    "|   4  | Iterating, string formatting, function arguments. | \r\n",
    "\r\n",
    "6 other activities are planned so stay tuned for more!"
   ],
   "metadata": {}
  },
  {
   "cell_type": "markdown",
   "source": [
    "## Saving your Work\n",
    "\n",
    "Always save your work at the end and download the **.ipynb** and other files you need to keep!"
   ],
   "metadata": {}
  },
  {
   "cell_type": "markdown",
   "source": [
    "## Sharing\n",
    "\n",
    "If you share, use or modify these activities in any way use the citation in this [txt file](https://github.com/astroDimitrios/Astronomy/blob/master/CITATION.txt).    \n",
    "Please contact me at astrodimitrios@gmail.com with any suggestions, mistakes found, or general questions about teaching astronomy with Python.\n",
    "\n",
    "© Dimitrios Theodorakis GNU General Public License v3.0 \u000b\n",
    "\n",
    "https://github.com/astroDimitrios/Astronomy  "
   ],
   "metadata": {}
  }
 ],
 "metadata": {
  "kernelspec": {
   "display_name": "Python 3",
   "language": "python",
   "name": "python3"
  },
  "language_info": {
   "codemirror_mode": {
    "name": "ipython",
    "version": 3
   },
   "file_extension": ".py",
   "mimetype": "text/x-python",
   "name": "python",
   "nbconvert_exporter": "python",
   "pygments_lexer": "ipython3",
   "version": "3.6.12"
  }
 },
 "nbformat": 4,
 "nbformat_minor": 4
}