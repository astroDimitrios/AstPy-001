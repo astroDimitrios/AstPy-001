{
 "cells": [
  {
   "cell_type": "markdown",
   "metadata": {},
   "source": [
    "Name: __________________        Class: __________________     Date: __________________"
   ]
  },
  {
   "cell_type": "markdown",
   "metadata": {},
   "source": [
    "![aplogo](https://raw.githubusercontent.com/astroDimitrios/Astronomy/master/DesignAssets/Ai/Banner3plainCut.png)\n",
    "\n",
    "# Light Speed\n",
    "\n",
    "### AIM - To perform simple calculations using Python\n",
    "Difficulty: Easy\n",
    "\n",
    "## Start:\n",
    "\n",
    "This activity is designed to help you improve your basic Python and introduce you to dictionaries and list comprehension. You are going to calculate how long it takes light to get to the Earth from the Sun, and then to the Earth from the Moon.\n",
    "\n",
    "This is the first activity where there is also a Teacher version of this notebook. If you are really stuck you can find the answers there.\n",
    "\n",
    "## Contents\n",
    "\n",
    "* [Start](#Start)\n",
    "* [Writing Functions](#FUNC)\n",
    "* [If Else Statements](#IF)\n",
    "* [Dictionaries](#DICT)\n",
    "* [List Comprehension](#LIST)\n",
    "* [Over to You](#OTY)\n",
    "\n",
    "\n",
    "## Let's Go: <a class=\"anchor\" id=\"Start\"></a>\n",
    "\n",
    "The first thing you should do is import the libraries you think you'll need like NumPy. I suggest you start by importing NumPy below:"
   ]
  },
  {
   "cell_type": "code",
   "execution_count": null,
   "metadata": {},
   "outputs": [],
   "source": [
    "# Don't forget the as np\n",
    "'''Your code here'''"
   ]
  },
  {
   "cell_type": "markdown",
   "metadata": {},
   "source": [
    "To work out the time for light to get to the Earth we need to declare three constants:\n",
    "\n",
    "* the average distance between the Earth and the Sun\n",
    "* the average distance between the Earth and the Moon\n",
    "* the speed of light\n",
    "\n",
    "Run the code cell below to declare these constants:"
   ]
  },
  {
   "cell_type": "code",
   "execution_count": null,
   "metadata": {},
   "outputs": [],
   "source": [
    "sun_earth = (150*10**6)*1000 # m\n",
    "moon_earth = 384400*1000     # m\n",
    "c = 299792458"
   ]
  },
  {
   "cell_type": "markdown",
   "metadata": {},
   "source": [
    "Now calculate the time from the Sun to the Earth using your formula **speed = distance / time** and save the value in a new variable called ```t_sun_earth```. Print out the value."
   ]
  },
  {
   "cell_type": "code",
   "execution_count": null,
   "metadata": {},
   "outputs": [],
   "source": [
    "# speed = distance / time so time = distance / speed\n",
    "t_sun_earth = '''Your code here'''\n",
    "'''Your code here'''"
   ]
  },
  {
   "cell_type": "markdown",
   "metadata": {},
   "source": [
    "You should have got a number in the hundreds. It would be easier to read as minutes so in the next cell convert the time which is in seconds to minutes and save it in a new variable called ```t_sun_earth_mins```."
   ]
  },
  {
   "cell_type": "code",
   "execution_count": null,
   "metadata": {},
   "outputs": [],
   "source": [
    "'''Your code here'''"
   ]
  },
  {
   "cell_type": "markdown",
   "metadata": {},
   "source": [
    "Notice that when you printed out the first time it had a lot of decimal places! We should round our time before printing it. We can do this using the ```np.round(number, dp)``` function which takes a number to round and the number of decimal places to round to as its arguments.\n",
    "\n",
    "Use ```np.round(number, dp)``` to round ```t_sun_earth_mins``` below and print out the rounded value:"
   ]
  },
  {
   "cell_type": "code",
   "execution_count": null,
   "metadata": {},
   "outputs": [],
   "source": [
    "'''Your code here'''"
   ]
  },
  {
   "cell_type": "markdown",
   "metadata": {},
   "source": [
    "You can use the ```print()``` function to format the number inside a sentence and output it.\n",
    "\n",
    "If I ran the code:\n",
    "```Python\n",
    "no_pops = 12.5\n",
    "print(\"Give me {:.1f} cake pops\".format(no_pops))\n",
    "```\n",
    "It would output:\n",
    "\n",
    "**Give me 12.5 cake pops**\n",
    "\n",
    "The ```{}``` tells Python where to put the variable ```no_pops``` in the string. We tell Python which variable to use in the ```.format()``` call at the end of the string. The ```:.1f``` tells Python to round the number to a float (hence the ```f```) with 1 decimal place (hence the ```.1```) and notice the formatting command normally starts with ```:```. You will learn more about string formatting in the third intro activity Spreading Out.\n",
    "\n",
    "Go ahead and print out your time to 2 decimal places in this sentence:\n",
    "\n",
    "It takes light x minutes to reach the Earth from the Sun"
   ]
  },
  {
   "cell_type": "code",
   "execution_count": null,
   "metadata": {},
   "outputs": [],
   "source": [
    "print('''Your code here''')"
   ]
  },
  {
   "cell_type": "markdown",
   "metadata": {},
   "source": [
    "Now you can do the same calculation but for the Moon to the Earth.\n",
    "If you perform a calculation or a piece of code more than once you can put it in a function instead of typing everything out again.\n",
    "\n",
    "Remember a function is defined like this: <a class=\"anchor\" id=\"FUNC\"></a>\n",
    "\n",
    "```Python\n",
    "def makecake(ingredients, method):\n",
    "    # takes the ingredients and method as a list of strings\n",
    "    # makes a cake\n",
    "    cake = \"cake\"\n",
    "    print(cake)\n",
    "    return cake\n",
    "```\n",
    "\n",
    "Here the arguments of the function are ```ingredients``` and ```method```. They are the two things the user has to supply when running the function which they might do like this:\n",
    "\n",
    "```Python\n",
    "ingredients = ['flour', 'egg', 'sugar']\n",
    "method = ['1 - Mix', '2 - Bake']\n",
    "# both function calls would output the print(cake) command\n",
    "cake = makecake(ingredients, method) # stores the returned variable\n",
    "makecake(ingredients, method)        # does not store the returned variable\n",
    "```\n",
    "\n",
    "Make a function called ```timetoobject``` below which takes the ```name``` of the object, and the ```distance``` to it as arguments. Make it print your sentence and return nothing. Don't forget your comments to explain what the function does."
   ]
  },
  {
   "cell_type": "code",
   "execution_count": null,
   "metadata": {},
   "outputs": [],
   "source": [
    "def timetoobject('''Your code here''', '''Your code here'''):\n",
    "    # '''Your code here'''\n",
    "    time = '''Your code here'''\n",
    "    time_min = '''Your code here'''\n",
    "    print('''Your code here''')\n",
    "    return"
   ]
  },
  {
   "cell_type": "markdown",
   "metadata": {},
   "source": [
    "To test that it works call the function with the arguments ```\"Sun\", sun_earth```. You should get exactly the same sentence outputted as earlier:"
   ]
  },
  {
   "cell_type": "code",
   "execution_count": null,
   "metadata": {},
   "outputs": [],
   "source": [
    "timetoobject('''Your code here''', '''Your code here''')"
   ]
  },
  {
   "cell_type": "markdown",
   "metadata": {},
   "source": [
    "Now check to see if it works with the Moon and the Moon - Earth distance using the arguments ```\"Moon\", moon_earth```:"
   ]
  },
  {
   "cell_type": "code",
   "execution_count": null,
   "metadata": {},
   "outputs": [],
   "source": [
    "timetoobject('''Your code here''', '''Your code here''')"
   ]
  },
  {
   "cell_type": "markdown",
   "metadata": {},
   "source": [
    "Hopefully you should have got a very small number in your sentence. It makes more sense to display this number in seconds than minutes.\n",
    "\n",
    "* Use if else statements to check whether the time is less than 60 seconds.    \n",
    "* If it is we want to print out the time in seconds not minutes so we don't need to convert it before adding it to our print statement.     \n",
    "* Then change the word ```minutes``` to ```{}``` in your print statement and add the ```unit``` variable to your ```.format()``` call.\n",
    "\n",
    "Remember if else statements are formatted like this: <a class=\"anchor\" id=\"IF\"></a>\n",
    "\n",
    "```Python\n",
    "if no_pops < 10:\n",
    "    text = \"MORE CAKE\"\n",
    "else:\n",
    "    text = \"MORE CAKE\"\n",
    "```"
   ]
  },
  {
   "cell_type": "code",
   "execution_count": null,
   "metadata": {},
   "outputs": [],
   "source": [
    "def timetoobject(name, distance):\n",
    "    # takes the name of an object and the distance from it to the Earth\n",
    "    # returns nothing\n",
    "    # prints the time taken for light to travel from the object to the Earth\n",
    "    time = distance/c\n",
    "    if '''Your code here''':\n",
    "        unit = '''Your code here'''\n",
    "        time_print = '''Your code here'''\n",
    "    else:\n",
    "        unit = '''Your code here'''\n",
    "        time_print = '''Your code here'''\n",
    "    print(\"It takes light {:.2f} {} to reach the Earth from the {}\".format(time_print, '''Your code here''', name))\n",
    "    return"
   ]
  },
  {
   "cell_type": "markdown",
   "metadata": {},
   "source": [
    "Again test your function with the arguments ```\"Sun\", sun_earth```then with the arguments ```\"Moon\", moon_earth```."
   ]
  },
  {
   "cell_type": "code",
   "execution_count": null,
   "metadata": {},
   "outputs": [],
   "source": [
    "'''Your code here'''"
   ]
  },
  {
   "cell_type": "code",
   "execution_count": null,
   "metadata": {},
   "outputs": [],
   "source": [
    "'''Your code here'''"
   ]
  },
  {
   "cell_type": "markdown",
   "metadata": {},
   "source": [
    "It would be great if all the constants we declared earlier were together and the function could access the correct distance if the person only knows the name of the object and not the distance from it to the Earth.\n",
    "<a class=\"anchor\" id=\"DICT\"></a>\n",
    "We can store all of the distances in a dictionary. A dictionary is a data structure in Python which stores keys and values. The key is used to access the data and the value is the data we extract.\n",
    "\n",
    "In the example below the keys are *Lemon* and *Chocolate* and the values are *5* and *500*. A key can have more than one value but in this case we only have one. Duplicate keys are not allowed. Notice there is no comma after the last value.\n",
    "\n",
    "```Python\n",
    "cakepops = {\n",
    "    'Lemon': 5,\n",
    "    'Chocolate' 500\n",
    "}\n",
    "```\n",
    "\n",
    "You can access data stored in a dictionary like this ```dictionary_name[\"key\"]```. If we wanted to extract the number of chocolate cakepops we would type:\n",
    "\n",
    "```Python\n",
    "cakepops[\"Chocolate\"]\n",
    "```\n",
    "\n",
    "Create a new dictionary called ```disttoearth``` which contains the distances from the Sun and Moon to the Earth. Also add the distance of Alpha Centauri from us which is $4.068\\times 10^{16} m$ away."
   ]
  },
  {
   "cell_type": "code",
   "execution_count": null,
   "metadata": {},
   "outputs": [],
   "source": [
    "diststoearth = {\n",
    "  \"Sun\": '''Your code here''',\n",
    "  '''Your code here''': '''Your code here''',\n",
    "  '''Your code here''': '''Your code here'''\n",
    "}"
   ]
  },
  {
   "cell_type": "markdown",
   "metadata": {},
   "source": [
    "**Note:** Here we have defined the dictionary outside of the function making it available to all other functions/parts of our code. We say the dictionary has global scope. This is fine for now but in the future consider whether a constant or dictionary etc. really needs to be accessed by anything other than the one function you're writing. If it is only going to be used by the function then it is best to define the dictionary inside the function or as an argument for the function (this has been left as a task for you at the end of activity). \n",
    "\n",
    "Now:\n",
    "\n",
    "* Copy your function below and remove the distance argument.\n",
    "* Add the constant c within the function.\n",
    "* Change the distance in the time calculation to be ```diststoearth[name]``` since name is the key that the user will supply."
   ]
  },
  {
   "cell_type": "code",
   "execution_count": null,
   "metadata": {},
   "outputs": [],
   "source": [
    "'''Your code here'''"
   ]
  },
  {
   "cell_type": "markdown",
   "metadata": {},
   "source": [
    "Now test out this function using the argument ```'Moon'```. It should still give the same answer as before."
   ]
  },
  {
   "cell_type": "code",
   "execution_count": null,
   "metadata": {},
   "outputs": [],
   "source": [
    "'''Your code here'''"
   ]
  },
  {
   "cell_type": "markdown",
   "metadata": {},
   "source": [
    "You added the distance to Alpha Centauri in the dictionary. Copy the function below again and add an ```elif``` statement to check if the time is greater than $15778800$ seconds. This is the number of seconds in half a year and I have chosen that as our cutoff for displaying the output in years (you are free to change this if you want!).  ```elif``` calls are formatted like the ```if``` call and go after ```if``` but before ```else```. If it is greater, convert the time to years before printing."
   ]
  },
  {
   "cell_type": "code",
   "execution_count": null,
   "metadata": {},
   "outputs": [],
   "source": [
    "'''Your code here'''"
   ]
  },
  {
   "cell_type": "markdown",
   "metadata": {},
   "source": [
    "Test your function with the argument ```'Alpha Centauri'``` - you should get around 4.3 years."
   ]
  },
  {
   "cell_type": "code",
   "execution_count": null,
   "metadata": {},
   "outputs": [],
   "source": [
    "'''Your code here'''"
   ]
  },
  {
   "cell_type": "markdown",
   "metadata": {},
   "source": [
    "It's often useful to make a function run on a list of arguments and get all the output at once.\n",
    "\n",
    "Make a list of strings called ```objects``` with all the keys from our dictionary above and print it."
   ]
  },
  {
   "cell_type": "code",
   "execution_count": null,
   "metadata": {},
   "outputs": [],
   "source": [
    "'''Your code here'''"
   ]
  },
  {
   "cell_type": "markdown",
   "metadata": {},
   "source": [
    "Try running your function with ```objects``` as the argument."
   ]
  },
  {
   "cell_type": "code",
   "execution_count": null,
   "metadata": {},
   "outputs": [],
   "source": [
    "'''Your code here'''"
   ]
  },
  {
   "cell_type": "markdown",
   "metadata": {},
   "source": [
    "You should have got an error because we can't pass a list as a key to a dictionary. Instead we need to iterate through the list applying the function to each item in the list.\n",
    "<a class=\"anchor\" id=\"LIST\"></a>\n",
    "We can do this using list comprehension. A list comprehension is sort of like a for loop in one line that outputs a list.\n",
    "\n",
    "You can construct them like this:\n",
    "\n",
    "```Python\n",
    "cake = [makecake(ingredient) for ingredient in ingredients]\n",
    "```\n",
    "\n",
    "Use a list comprehension to create a list called ```times``` which applies your function to every object in our list of objects. If it works it will print out the 3 sentences from earlier."
   ]
  },
  {
   "cell_type": "code",
   "execution_count": null,
   "metadata": {},
   "outputs": [],
   "source": [
    "times = ['''Your code here''' for '''Your code here''' in '''Your code here''']"
   ]
  },
  {
   "cell_type": "markdown",
   "metadata": {},
   "source": [
    "Now print the ```times``` list. What do you see?"
   ]
  },
  {
   "cell_type": "code",
   "execution_count": null,
   "metadata": {},
   "outputs": [],
   "source": [
    "'''Your code here'''"
   ]
  },
  {
   "cell_type": "markdown",
   "metadata": {},
   "source": [
    "It should have returned three ```None```s. That's because our function didn't return anything. If we had returned the sentence instead of printed it they would appear in this list.\n",
    "\n",
    "Remember to write your docstring (comment) in your function to explain what it does.\n",
    "We mentioned that the name of the object had to be a string but it's always good if you check explicitly in your code to make sure it is a string before running anything else. This can provide the user with a more specific and helpful error message.\n",
    "\n",
    "## Over to You <a class=\"anchor\" id=\"OTY\"></a>\n",
    "\n",
    "Have a go at the tasks below. I haven't provided solutions and there are probably a few ways to solve each one! Remember if you are stuck you can consult the Python and NumPy docs at https://docs.python.org/3/, and https://numpy.org/doc/stable/, find help from one of these websites www.w3schools.com, www.python.org, www.learnpython.org or you can also get advice from www.stackoverflow.com. You can also ask your instructor for help or email me at astrodimitrios@gmail.com.\n",
    "\n",
    "**Task 1:** Alter your function to print and return the sentence. Re-run the list comprehension and print the list ```times``` again.         \n",
    "**Task 2:** Use a for loop to iterate through the ```times``` list and print each sentence.  \n",
    "**Task 3:** Alter the code to take a dictionary of distances as an argument or include the dictionary inside the function.    \n",
    "**Task 4:** Test to see if the name argument passed to the function is a string using ```type()```, see [here](https://www.geeksforgeeks.org/python-check-if-a-variable-is-string/) and if it isn't raise an exception, see [here](https://www.w3schools.com/python/python_try_except.asp). You may need to use another if statement."
   ]
  },
  {
   "cell_type": "code",
   "execution_count": null,
   "metadata": {},
   "outputs": [],
   "source": [
    "# Your code here:\n"
   ]
  },
  {
   "cell_type": "markdown",
   "metadata": {},
   "source": [
    "## Sharing\n",
    "\n",
    "If you share, use or modify this activity in any way use the citation in this [txt file](https://github.com/astroDimitrios/Astronomy/blob/master/CITATION.txt).    \n",
    "Please contact me at astrodimitrios@gmail.com with any suggestions, mistakes found, or general questions about teaching astronomy with Python.\n",
    "\n",
    "© Dimitrios Theodorakis GNU General Public License v3.0 \u000b\n",
    "https://github.com/astroDimitrios/Astronomy  "
   ]
  }
 ],
 "metadata": {
  "kernelspec": {
   "display_name": "Python 3",
   "language": "python",
   "name": "python3"
  },
  "language_info": {
   "codemirror_mode": {
    "name": "ipython",
    "version": 3
   },
   "file_extension": ".py",
   "mimetype": "text/x-python",
   "name": "python",
   "nbconvert_exporter": "python",
   "pygments_lexer": "ipython3",
   "version": "3.6.12"
  }
 },
 "nbformat": 4,
 "nbformat_minor": 4
}